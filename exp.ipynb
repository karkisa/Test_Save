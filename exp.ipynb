{
 "cells": [
  {
   "cell_type": "code",
   "execution_count": 6,
   "metadata": {},
   "outputs": [],
   "source": [
    "import pandas as pd\n",
    "import os, glob\n",
    "from sklearn.model_selection import StratifiedKFold"
   ]
  },
  {
   "cell_type": "code",
   "execution_count": 9,
   "metadata": {},
   "outputs": [],
   "source": [
    "\n",
    "def get_folds():\n",
    "    df= pd.DataFrame()\n",
    "    base_img_folder = '/Users/sagar/Desktop/MachineLearningEngineerTest/ML/data/images'\n",
    "    df['img_list'] = glob.glob(base_img_folder+'/*/*.TIF')\n",
    "    df['cls'] = [int(x.split('/')[-2]) for x in df['img_list']]\n",
    "    df['fold'] = 0\n",
    "    skf= StratifiedKFold(n_splits=5)\n",
    "    for i, (train_index, test_index) in enumerate(skf.split(df,df['cls'])):\n",
    "        print(test_index)\n",
    "        df.loc[test_index,'fold']= i\n",
    "    df.to_csv()\n",
    "    return df\n"
   ]
  }
 ],
 "metadata": {
  "kernelspec": {
   "display_name": "whale_segmentation",
   "language": "python",
   "name": "python3"
  },
  "language_info": {
   "codemirror_mode": {
    "name": "ipython",
    "version": 3
   },
   "file_extension": ".py",
   "mimetype": "text/x-python",
   "name": "python",
   "nbconvert_exporter": "python",
   "pygments_lexer": "ipython3",
   "version": "3.9.16"
  },
  "orig_nbformat": 4
 },
 "nbformat": 4,
 "nbformat_minor": 2
}
